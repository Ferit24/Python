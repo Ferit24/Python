1-)
kelvin = float(input("Sıcaklık değerini Kelvin cinsinden girin: "))
celsius = kelvin - 273.15

print(f"{kelvin} Kelvin, {celsius:.2f} Celsius'a eşittir

2-)
pi = 3.14
yaricap = 1.5

alan = pi * (yaricap ** 2)
cevre = 2 * pi * yaricap

print(f"Dairenin Alanı: {alan:.2f} cm²")
print(f"Dairenin Çevresi: {cevre:.2f} cm")

3-)
sayi = int(input("Dört basamaklı bir sayı girin: "))

ilk_basamak = sayi // 1000
son_basamak = sayi % 10

toplam = ilk_basamak + son_basamak

print(f"İlk ve son basamağın toplamı: {toplam}")

4-)
hiz_kmh = 110
mesafe_km = 500

hiz_kmsaat = hiz_kmh
mesafe_kmsaat = mesafe_km

sure_saat = mesafe_kmsaat / hiz_kmsaat
sure_saat_tam = int(sure_saat)  # Tam saat
sure_dakika = (sure_saat - sure_saat_tam) * 60  # Dakika

print(f"Araba {mesafe_km} km'lik yolu {sure_saat_tam} saat {int(sure_dakika)} dakika içinde gidecektir.")
